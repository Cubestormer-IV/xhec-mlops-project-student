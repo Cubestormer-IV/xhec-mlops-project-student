{
 "cells": [
  {
   "attachments": {},
   "cell_type": "markdown",
   "metadata": {},
   "source": [
    "In this notebook, you should implement a first version of a working machine learning model to predict the age of an Abalone.\n",
    "\n",
    "A few guidelines:\n",
    "- The model does not have to be complex. A simple linear regression model is enough.\n",
    "- You should use MLflow to track your experiments. You can use the MLflow UI to compare your experiments.\n",
    "- Do not push any MLflow data to the repository. Only the code to run the experiments is interesting and should be pushed."
   ]
  },
  {
   "cell_type": "code",
   "execution_count": null,
   "metadata": {},
   "outputs": [],
   "source": [
    "# Client\n",
    "import mlflow\n",
    "from mlflow import MlflowClient\n",
    "client = MlflowClient()"
   ]
  },
  {
   "cell_type": "code",
   "execution_count": 1,
   "metadata": {},
   "outputs": [],
   "source": [
    "import os\n",
    "import mlflow\n",
    "import mlflow.sklearn\n",
    "import pandas as pd\n",
    "from mlflow import MlflowClient\n",
    "from sklearn.model_selection import train_test_split\n",
    "from sklearn.linear_model import Lasso\n",
    "from sklearn.preprocessing import OneHotEncoder, StandardScaler\n",
    "from sklearn.compose import ColumnTransformer\n",
    "from sklearn.pipeline import Pipeline\n",
    "from sklearn.metrics import root_mean_squared_error\n",
    "from sklearn.metrics import accuracy_score\n",
    "\n",
    "\n",
    "\n",
    "# Set the experiment\n",
    "mlflow.set_experiment(\"abalone-model\")\n",
    "\n",
    "# Enable MLflow autologging\n",
    "#mlflow.sklearn.autolog()\n",
    "\n",
    "# Start an MLflow run\n",
    "with mlflow.start_run() as run:\n",
    "\n",
    "    run_id = run.info.run_id\n",
    "\n",
    "    mlflow.set_tags({\n",
    "        \"model\": \"Lasso Regression\",\n",
    "        \"version\": \"1.0\",\n",
    "        \"author\": \" \",\n",
    "        \"description\": \"Lasso regression model training and logging example\"\n",
    "    })\n",
    "\n",
    "    # Load the dataset\n",
    "    file_path = '../data/abalone.csv'\n",
    "    df = pd.read_csv(file_path)\n",
    "\n",
    "    #preprocessing\n",
    "\n",
    "    # Separate features and target variable\n",
    "    X = df.drop(columns='Rings')\n",
    "    y = df['Rings']\n",
    "\n",
    "    # Parameters to be logged\n",
    "    alpha = 0.01\n",
    "    test_size = 0.2\n",
    "    random_state = 50\n",
    "\n",
    "    # Preprocess the 'Sex' feature using one-hot encoding, and scale numeric features\n",
    "    preprocessor = ColumnTransformer(\n",
    "        transformers=[\n",
    "            ('num', StandardScaler(), ['Length', 'Diameter', 'Height', 'Whole weight', \n",
    "                                       'Shucked weight', 'Viscera weight', 'Shell weight']),\n",
    "            ('cat', OneHotEncoder(), ['Sex'])\n",
    "        ]\n",
    "    )\n",
    "\n",
    "    # Create a pipeline with Lasso regression model\n",
    "    model = Lasso(alpha=alpha)\n",
    "    pipeline = Pipeline(steps=[\n",
    "        ('preprocessor', preprocessor),\n",
    "        ('regressor', model)\n",
    "    ])\n",
    "\n",
    "    # Log parameters manually\n",
    "    mlflow.log_param(\"alpha\", alpha)\n",
    "    mlflow.log_param(\"test_size\", test_size)\n",
    "    mlflow.log_param(\"random_state\", random_state)\n",
    "\n",
    "    # Split the data into training and test sets\n",
    "    X_train, X_test, y_train, y_test = train_test_split(X, y, test_size=test_size, random_state=random_state)\n",
    "\n",
    "    # Train the model\n",
    "    pipeline.fit(X_train, y_train)\n",
    "\n",
    "    # Predict on the test set\n",
    "    y_pred = pipeline.predict(X_test)\n",
    "\n",
    "    # Evaluate the model using Mean Squared Error\n",
    "    rmse = root_mean_squared_error(y_test, y_pred)\n",
    "    print(f'Root Mean Squared Error: {rmse:.2f}')\n",
    "\n",
    "    # Log metrics manually\n",
    "    mlflow.log_metric(\"rmse\", rmse)\n",
    "\n",
    "    # Log the model\n",
    "    mlflow.sklearn.log_model(pipeline, \"models\")\n",
    "\n",
    "    # Log an artifact (e.g., a text file with notes or additional information)\n",
    "    artifact_dir = \"artifact_dir\"\n",
    "    os.makedirs(artifact_dir, exist_ok=True)  # Create a directory if it doesn't exist\n",
    "    \n",
    "    artifact_path = os.path.join(artifact_dir, \"notes.txt\")\n",
    "    with open(artifact_path, \"w\") as f:\n",
    "        f.write(f\"Run ID: {run_id}\\n\")\n",
    "        f.write(\"Additional notes or insights can go here...\\n\")\n",
    "\n",
    "    # Log the artifact\n",
    "    mlflow.log_artifact(artifact_path)\n",
    "    print(f\"default artifacts URI: '{mlflow.get_artifact_uri()}'\")\n",
    "\n",
    "    # Optionally: print the run details\n",
    "    print(f\"Run ID: {run_id}\")\n",
    "    print(f\"Model registered as: Lassomodel\")\n",
    "   "
   ]
  },
  {
   "cell_type": "code",
   "execution_count": 2,
   "metadata": {},
   "outputs": [],
   "source": [
    "experiments = client.search_experiments()\n",
    "experiments"
   ]
  },
  {
   "cell_type": "code",
   "execution_count": 3,
   "metadata": {},
   "outputs": [
    {
     "data": {
      "text/plain": [
       "[<Experiment: artifact_location='file:///c:/Users/ZQili/Desktop/HEC/MLOps/xhec-mlops-project-student/notebooks/mlruns/0', creation_time=1729772862004, experiment_id='0', last_update_time=1729772862004, lifecycle_stage='active', name='Default', tags={}>]"
      ]
     },
     "execution_count": 3,
     "metadata": {},
     "output_type": "execute_result"
    }
   ],
   "source": [
    "result = mlflow.register_model(f\"runs:/{run_id}/models\", \"lasso_model\")"
   ]
  },
  {
   "cell_type": "code",
   "execution_count": 8,
   "metadata": {},
   "outputs": [
    {
     "name": "stderr",
     "output_type": "stream",
     "text": [
      "2024/10/24 14:30:41 WARNING mlflow.models.model: Model logged without a signature and input example. Please set `input_example` parameter when logging the model to auto infer the model signature.\n"
     ]
    },
    {
     "name": "stdout",
     "output_type": "stream",
     "text": [
      "Run ID: 520c439409214c32beddc97d1555960f\n",
      "Model registered as: LassoRegressionModel\n"
     ]
    },
    {
     "name": "stderr",
     "output_type": "stream",
     "text": [
      "Registered model 'LassoRegressionModel' already exists. Creating a new version of this model...\n",
      "Created version '2' of model 'LassoRegressionModel'.\n"
     ]
    }
   ],
   "source": [
    "# Set the experiment name\n",
    "mlflow.set_experiment(\"abalone-model\")\n",
    "\n",
    "# Start a run\n",
    "with mlflow.start_run() as run:\n",
    "    run_id = run.info.run_id\n",
    "\n",
    "    # Set tags for the run\n",
    "    mlflow.set_tags({\n",
    "        \"model\": \"Lasso Regression\",\n",
    "        \"version\": \"1.0\",\n",
    "        \"author\": \"Your Name\",  # Specify your name\n",
    "        \"description\": \"Lasso regression model training and logging example\"\n",
    "    })\n",
    "\n",
    "    # Load the dataset\n",
    "    file_path = '../data/abalone.csv'\n",
    "    df = pd.read_csv(file_path)\n",
    "\n",
    "    # Preprocessing\n",
    "    # Separate features and target variable\n",
    "    X = df.drop(columns='Rings')\n",
    "    y = df['Rings']\n",
    "\n",
    "    # Parameters to be logged\n",
    "    alpha = 0.01\n",
    "    test_size = 0.2\n",
    "    random_state = 50\n",
    "\n",
    "    # Preprocess the 'Sex' feature using one-hot encoding, and scale numeric features\n",
    "    preprocessor = ColumnTransformer(\n",
    "        transformers=[\n",
    "            ('num', StandardScaler(), ['Length', 'Diameter', 'Height', 'Whole weight',\n",
    "                                        'Shucked weight', 'Viscera weight', 'Shell weight']),\n",
    "            ('cat', OneHotEncoder(), ['Sex'])\n",
    "        ]\n",
    "    )\n",
    "\n",
    "    # Create a pipeline with Lasso regression model\n",
    "    model = Lasso(alpha=alpha)\n",
    "    pipeline = Pipeline(steps=[\n",
    "        ('preprocessor', preprocessor),\n",
    "        ('regressor', model)\n",
    "    ])\n",
    "\n",
    "    # Log parameters manually\n",
    "    mlflow.log_param(\"alpha\", alpha)\n",
    "    mlflow.log_param(\"test_size\", test_size)\n",
    "    mlflow.log_param(\"random_state\", random_state)\n",
    "\n",
    "    # Split the data into training and test sets\n",
    "    X_train, X_test, y_train, y_test = train_test_split(X, y, test_size=test_size, random_state=random_state)\n",
    "\n",
    "    # Train the model\n",
    "    pipeline.fit(X_train, y_train)\n",
    "\n",
    "    # Predict on the test set\n",
    "    y_pred = pipeline.predict(X_test)\n",
    "\n",
    "    # Evaluate the model using Mean Squared Error\n",
    "    rmse = root_mean_squared_error(y_test, y_pred)\n",
    "    logging.info(f'Root Mean Squared Error: {rmse:.2f}')\n",
    "\n",
    "    # Log metrics manually\n",
    "    mlflow.log_metric(\"rmse\", rmse)\n",
    "\n",
    "    # Log the model\n",
    "    mlflow.sklearn.log_model(pipeline, \"models\")\n",
    "\n",
    "    # Register the model in MLflow model registry\n",
    "    mlflow.register_model(\n",
    "        f\"runs:/{run_id}/models\",  # Path to the model\n",
    "        \"LassoRegressionModel\"      # Name of the model in the registry\n",
    "    )\n",
    "\n",
    "# Optionally: print the run details\n",
    "print(f\"Run ID: {run_id}\")\n",
    "print(f\"Model registered as: LassoRegressionModel\")\n"
   ]
  },
  {
   "cell_type": "code",
   "execution_count": 9,
   "metadata": {},
   "outputs": [
    {
     "data": {
      "text/plain": [
       "[<Experiment: artifact_location='file:///c:/Users/ZQili/Desktop/HEC/MLOps/xhec-mlops-project-student/notebooks/mlruns/988574509241110565', creation_time=1729772911754, experiment_id='988574509241110565', last_update_time=1729772911754, lifecycle_stage='active', name='abalone-model', tags={}>,\n",
       " <Experiment: artifact_location='file:///c:/Users/ZQili/Desktop/HEC/MLOps/xhec-mlops-project-student/notebooks/mlruns/0', creation_time=1729772862004, experiment_id='0', last_update_time=1729772862004, lifecycle_stage='active', name='Default', tags={}>]"
      ]
     },
     "execution_count": 9,
     "metadata": {},
     "output_type": "execute_result"
    }
   ],
   "source": [
    "experiment= mlflow.search_experiments()\n",
    "experiment"
   ]
  },
  {
   "cell_type": "code",
   "execution_count": 10,
   "metadata": {},
   "outputs": [
    {
     "name": "stdout",
     "output_type": "stream",
     "text": [
      "^C\n"
     ]
    }
   ],
   "source": [
    "!mlflow ui --host 0.0.0.0 --port 5002"
   ]
  },
  {
   "cell_type": "code",
   "execution_count": null,
   "metadata": {},
   "outputs": [],
   "source": [
    "experiments = client.search_experiments()\n",
    "experiments"
   ]
  },
  {
   "cell_type": "code",
   "execution_count": null,
   "metadata": {},
   "outputs": [],
   "source": [
    "!mlflow ui --host 0.0.0.0 --port 5003\n"
   ]
  }
 ],
 "metadata": {
  "kernelspec": {
   "display_name": "abalone",
   "language": "python",
   "name": "python3"
  },
  "language_info": {
   "codemirror_mode": {
    "name": "ipython",
    "version": 3
   },
   "file_extension": ".py",
   "mimetype": "text/x-python",
   "name": "python",
   "nbconvert_exporter": "python",
   "pygments_lexer": "ipython3",
   "version": "3.10.0"
  },
  "orig_nbformat": 4
 },
 "nbformat": 4,
 "nbformat_minor": 2
}
